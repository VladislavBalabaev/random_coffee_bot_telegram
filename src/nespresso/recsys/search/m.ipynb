{
 "cells": [
  {
   "cell_type": "code",
   "execution_count": 3,
   "id": "28779530",
   "metadata": {},
   "outputs": [],
   "source": [
    "from opensearchpy import OpenSearch\n",
    "\n",
    "from nespresso.core.configs.env_reader import settings\n",
    "\n",
    "client = OpenSearch(\n",
    "    hosts=[\n",
    "        {\n",
    "            \"host\": \"localhost\",\n",
    "            \"port\": 9200,\n",
    "            \"scheme\": \"http\"\n",
    "        }\n",
    "    ],\n",
    "    http_auth=(\"admin\", settings.OPENSEARCH_INITIAL_ADMIN_PASSWORD.get_secret_value()),\n",
    "    use_ssl=False,\n",
    "    verify_certs=False,\n",
    ")\n"
   ]
  },
  {
   "cell_type": "code",
   "execution_count": null,
   "id": "6df6ad28",
   "metadata": {},
   "outputs": [
    {
     "name": "stdout",
     "output_type": "stream",
     "text": [
      "Welcome to opensearch 3.0.0!\n"
     ]
    }
   ],
   "source": [
    "info = client.info()\n",
    "print(f\"Welcome to {info['version']['distribution']} {info['version']['number']}!\")  # noqa: T201"
   ]
  },
  {
   "cell_type": "code",
   "execution_count": 6,
   "id": "9aba895d",
   "metadata": {},
   "outputs": [
    {
     "data": {
      "text/plain": [
       "{'name': '261115e0c6c0',\n",
       " 'cluster_name': 'nespresso-cluster',\n",
       " 'cluster_uuid': 'Sk5fMlyETDShkR3tK2H82A',\n",
       " 'version': {'distribution': 'opensearch',\n",
       "  'number': '3.0.0',\n",
       "  'build_type': 'tar',\n",
       "  'build_hash': 'dc4efa821904cc2d7ea7ef61c0f577d3fc0d8be9',\n",
       "  'build_date': '2025-05-03T06:25:26.379676844Z',\n",
       "  'build_snapshot': False,\n",
       "  'lucene_version': '10.1.0',\n",
       "  'minimum_wire_compatibility_version': '2.19.0',\n",
       "  'minimum_index_compatibility_version': '2.0.0'},\n",
       " 'tagline': 'The OpenSearch Project: https://opensearch.org/'}"
      ]
     },
     "execution_count": 6,
     "metadata": {},
     "output_type": "execute_result"
    }
   ],
   "source": [
    "client.info()"
   ]
  }
 ],
 "metadata": {
  "kernelspec": {
   "display_name": "venv",
   "language": "python",
   "name": "python3"
  },
  "language_info": {
   "codemirror_mode": {
    "name": "ipython",
    "version": 3
   },
   "file_extension": ".py",
   "mimetype": "text/x-python",
   "name": "python",
   "nbconvert_exporter": "python",
   "pygments_lexer": "ipython3",
   "version": "3.12.10"
  }
 },
 "nbformat": 4,
 "nbformat_minor": 5
}
